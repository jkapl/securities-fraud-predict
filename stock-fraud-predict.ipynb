{
 "cells": [
  {
   "cell_type": "code",
   "execution_count": 1,
   "metadata": {},
   "outputs": [],
   "source": [
    "import pandas as pd\n",
    "import numpy as np\n",
    "import itertools\n",
    "\n",
    "from sklearn.model_selection import train_test_split\n",
    "from sklearn.linear_model import LogisticRegression\n",
    "\n",
    "from sklearn.metrics import roc_curve, auc\n",
    "from sklearn.metrics import confusion_matrix\n",
    "\n",
    "import matplotlib.pyplot as plt\n",
    "import seaborn as sns\n",
    "%matplotlib inline"
   ]
  },
  {
   "cell_type": "code",
   "execution_count": 2,
   "metadata": {},
   "outputs": [
    {
     "name": "stdout",
     "output_type": "stream",
     "text": [
      "README.md                 scac.csv\r\n",
      "\u001b[31mall_stocks_5yr.csv\u001b[m\u001b[m        stock-fraud-predict.ipynb\r\n"
     ]
    }
   ],
   "source": [
    "!ls"
   ]
  },
  {
   "cell_type": "code",
   "execution_count": 3,
   "metadata": {},
   "outputs": [],
   "source": [
    "df = pd.read_csv('scac.csv')"
   ]
  },
  {
   "cell_type": "code",
   "execution_count": 4,
   "metadata": {},
   "outputs": [
    {
     "data": {
      "text/html": [
       "<div>\n",
       "<style scoped>\n",
       "    .dataframe tbody tr th:only-of-type {\n",
       "        vertical-align: middle;\n",
       "    }\n",
       "\n",
       "    .dataframe tbody tr th {\n",
       "        vertical-align: top;\n",
       "    }\n",
       "\n",
       "    .dataframe thead th {\n",
       "        text-align: right;\n",
       "    }\n",
       "</style>\n",
       "<table border=\"1\" class=\"dataframe\">\n",
       "  <thead>\n",
       "    <tr style=\"text-align: right;\">\n",
       "      <th></th>\n",
       "      <th>filing_name</th>\n",
       "      <th>filing_date</th>\n",
       "      <th>district_court</th>\n",
       "      <th>exchange</th>\n",
       "      <th>ticker</th>\n",
       "    </tr>\n",
       "  </thead>\n",
       "  <tbody>\n",
       "    <tr>\n",
       "      <th>0</th>\n",
       "      <td>ILG, Inc.</td>\n",
       "      <td>07/06/2018</td>\n",
       "      <td>D. Delaware</td>\n",
       "      <td>NASDAQ</td>\n",
       "      <td>ILG</td>\n",
       "    </tr>\n",
       "    <tr>\n",
       "      <th>1</th>\n",
       "      <td>KLX Inc.</td>\n",
       "      <td>07/06/2018</td>\n",
       "      <td>D. Delaware</td>\n",
       "      <td>NASDAQ</td>\n",
       "      <td>KLXI</td>\n",
       "    </tr>\n",
       "    <tr>\n",
       "      <th>2</th>\n",
       "      <td>Triangle Capital Corporation</td>\n",
       "      <td>07/06/2018</td>\n",
       "      <td>E.D. North Carolina</td>\n",
       "      <td>New York SE</td>\n",
       "      <td>TCAP</td>\n",
       "    </tr>\n",
       "    <tr>\n",
       "      <th>3</th>\n",
       "      <td>Vectren Corporation</td>\n",
       "      <td>07/05/2018</td>\n",
       "      <td>S.D. Indiana</td>\n",
       "      <td>New York SE</td>\n",
       "      <td>VVC</td>\n",
       "    </tr>\n",
       "    <tr>\n",
       "      <th>4</th>\n",
       "      <td>DCT Industrial Trust Inc.</td>\n",
       "      <td>07/02/2018</td>\n",
       "      <td>D. Colorado</td>\n",
       "      <td>New York SE</td>\n",
       "      <td>DCT</td>\n",
       "    </tr>\n",
       "  </tbody>\n",
       "</table>\n",
       "</div>"
      ],
      "text/plain": [
       "                    filing_name filing_date       district_court     exchange  \\\n",
       "0                     ILG, Inc.  07/06/2018          D. Delaware       NASDAQ   \n",
       "1                      KLX Inc.  07/06/2018          D. Delaware       NASDAQ   \n",
       "2  Triangle Capital Corporation  07/06/2018  E.D. North Carolina  New York SE   \n",
       "3           Vectren Corporation  07/05/2018         S.D. Indiana  New York SE   \n",
       "4     DCT Industrial Trust Inc.  07/02/2018          D. Colorado  New York SE   \n",
       "\n",
       "  ticker  \n",
       "0    ILG  \n",
       "1   KLXI  \n",
       "2   TCAP  \n",
       "3    VVC  \n",
       "4    DCT  "
      ]
     },
     "execution_count": 4,
     "metadata": {},
     "output_type": "execute_result"
    }
   ],
   "source": [
    "df.head()"
   ]
  },
  {
   "cell_type": "code",
   "execution_count": 5,
   "metadata": {},
   "outputs": [],
   "source": [
    "df1 = pd.read_csv('all_stocks_5yr.csv')"
   ]
  },
  {
   "cell_type": "code",
   "execution_count": 6,
   "metadata": {},
   "outputs": [
    {
     "data": {
      "text/html": [
       "<div>\n",
       "<style scoped>\n",
       "    .dataframe tbody tr th:only-of-type {\n",
       "        vertical-align: middle;\n",
       "    }\n",
       "\n",
       "    .dataframe tbody tr th {\n",
       "        vertical-align: top;\n",
       "    }\n",
       "\n",
       "    .dataframe thead th {\n",
       "        text-align: right;\n",
       "    }\n",
       "</style>\n",
       "<table border=\"1\" class=\"dataframe\">\n",
       "  <thead>\n",
       "    <tr style=\"text-align: right;\">\n",
       "      <th></th>\n",
       "      <th>date</th>\n",
       "      <th>open</th>\n",
       "      <th>high</th>\n",
       "      <th>low</th>\n",
       "      <th>close</th>\n",
       "      <th>volume</th>\n",
       "      <th>Name</th>\n",
       "    </tr>\n",
       "  </thead>\n",
       "  <tbody>\n",
       "    <tr>\n",
       "      <th>0</th>\n",
       "      <td>2013-02-08</td>\n",
       "      <td>15.07</td>\n",
       "      <td>15.12</td>\n",
       "      <td>14.63</td>\n",
       "      <td>14.75</td>\n",
       "      <td>8407500</td>\n",
       "      <td>AAL</td>\n",
       "    </tr>\n",
       "    <tr>\n",
       "      <th>1</th>\n",
       "      <td>2013-02-11</td>\n",
       "      <td>14.89</td>\n",
       "      <td>15.01</td>\n",
       "      <td>14.26</td>\n",
       "      <td>14.46</td>\n",
       "      <td>8882000</td>\n",
       "      <td>AAL</td>\n",
       "    </tr>\n",
       "    <tr>\n",
       "      <th>2</th>\n",
       "      <td>2013-02-12</td>\n",
       "      <td>14.45</td>\n",
       "      <td>14.51</td>\n",
       "      <td>14.10</td>\n",
       "      <td>14.27</td>\n",
       "      <td>8126000</td>\n",
       "      <td>AAL</td>\n",
       "    </tr>\n",
       "    <tr>\n",
       "      <th>3</th>\n",
       "      <td>2013-02-13</td>\n",
       "      <td>14.30</td>\n",
       "      <td>14.94</td>\n",
       "      <td>14.25</td>\n",
       "      <td>14.66</td>\n",
       "      <td>10259500</td>\n",
       "      <td>AAL</td>\n",
       "    </tr>\n",
       "    <tr>\n",
       "      <th>4</th>\n",
       "      <td>2013-02-14</td>\n",
       "      <td>14.94</td>\n",
       "      <td>14.96</td>\n",
       "      <td>13.16</td>\n",
       "      <td>13.99</td>\n",
       "      <td>31879900</td>\n",
       "      <td>AAL</td>\n",
       "    </tr>\n",
       "  </tbody>\n",
       "</table>\n",
       "</div>"
      ],
      "text/plain": [
       "         date   open   high    low  close    volume Name\n",
       "0  2013-02-08  15.07  15.12  14.63  14.75   8407500  AAL\n",
       "1  2013-02-11  14.89  15.01  14.26  14.46   8882000  AAL\n",
       "2  2013-02-12  14.45  14.51  14.10  14.27   8126000  AAL\n",
       "3  2013-02-13  14.30  14.94  14.25  14.66  10259500  AAL\n",
       "4  2013-02-14  14.94  14.96  13.16  13.99  31879900  AAL"
      ]
     },
     "execution_count": 6,
     "metadata": {},
     "output_type": "execute_result"
    }
   ],
   "source": [
    "df1.head()"
   ]
  },
  {
   "cell_type": "code",
   "execution_count": 11,
   "metadata": {},
   "outputs": [
    {
     "name": "stdout",
     "output_type": "stream",
     "text": [
      "<class 'pandas.core.frame.DataFrame'>\n",
      "RangeIndex: 619040 entries, 0 to 619039\n",
      "Data columns (total 7 columns):\n",
      "date      619040 non-null object\n",
      "open      619029 non-null float64\n",
      "high      619032 non-null float64\n",
      "low       619032 non-null float64\n",
      "close     619040 non-null float64\n",
      "volume    619040 non-null int64\n",
      "Name      619040 non-null object\n",
      "dtypes: float64(4), int64(1), object(2)\n",
      "memory usage: 33.1+ MB\n"
     ]
    }
   ],
   "source": [
    "df1.info()"
   ]
  },
  {
   "cell_type": "code",
   "execution_count": 12,
   "metadata": {},
   "outputs": [
    {
     "name": "stdout",
     "output_type": "stream",
     "text": [
      "<class 'pandas.core.frame.DataFrame'>\n",
      "RangeIndex: 4996 entries, 0 to 4995\n",
      "Data columns (total 5 columns):\n",
      "filing_name       4996 non-null object\n",
      "filing_date       4996 non-null object\n",
      "district_court    4996 non-null object\n",
      "exchange          4996 non-null object\n",
      "ticker            4996 non-null object\n",
      "dtypes: object(5)\n",
      "memory usage: 195.2+ KB\n"
     ]
    }
   ],
   "source": [
    "df.info()"
   ]
  },
  {
   "cell_type": "code",
   "execution_count": 16,
   "metadata": {},
   "outputs": [],
   "source": [
    "df1.rename(columns={'Name':'ticker'}, inplace=True)"
   ]
  },
  {
   "cell_type": "code",
   "execution_count": 17,
   "metadata": {},
   "outputs": [
    {
     "data": {
      "text/html": [
       "<div>\n",
       "<style scoped>\n",
       "    .dataframe tbody tr th:only-of-type {\n",
       "        vertical-align: middle;\n",
       "    }\n",
       "\n",
       "    .dataframe tbody tr th {\n",
       "        vertical-align: top;\n",
       "    }\n",
       "\n",
       "    .dataframe thead th {\n",
       "        text-align: right;\n",
       "    }\n",
       "</style>\n",
       "<table border=\"1\" class=\"dataframe\">\n",
       "  <thead>\n",
       "    <tr style=\"text-align: right;\">\n",
       "      <th></th>\n",
       "      <th>date</th>\n",
       "      <th>open</th>\n",
       "      <th>high</th>\n",
       "      <th>low</th>\n",
       "      <th>close</th>\n",
       "      <th>volume</th>\n",
       "      <th>ticker</th>\n",
       "    </tr>\n",
       "  </thead>\n",
       "  <tbody>\n",
       "    <tr>\n",
       "      <th>0</th>\n",
       "      <td>2013-02-08</td>\n",
       "      <td>15.07</td>\n",
       "      <td>15.12</td>\n",
       "      <td>14.63</td>\n",
       "      <td>14.75</td>\n",
       "      <td>8407500</td>\n",
       "      <td>AAL</td>\n",
       "    </tr>\n",
       "    <tr>\n",
       "      <th>1</th>\n",
       "      <td>2013-02-11</td>\n",
       "      <td>14.89</td>\n",
       "      <td>15.01</td>\n",
       "      <td>14.26</td>\n",
       "      <td>14.46</td>\n",
       "      <td>8882000</td>\n",
       "      <td>AAL</td>\n",
       "    </tr>\n",
       "    <tr>\n",
       "      <th>2</th>\n",
       "      <td>2013-02-12</td>\n",
       "      <td>14.45</td>\n",
       "      <td>14.51</td>\n",
       "      <td>14.10</td>\n",
       "      <td>14.27</td>\n",
       "      <td>8126000</td>\n",
       "      <td>AAL</td>\n",
       "    </tr>\n",
       "    <tr>\n",
       "      <th>3</th>\n",
       "      <td>2013-02-13</td>\n",
       "      <td>14.30</td>\n",
       "      <td>14.94</td>\n",
       "      <td>14.25</td>\n",
       "      <td>14.66</td>\n",
       "      <td>10259500</td>\n",
       "      <td>AAL</td>\n",
       "    </tr>\n",
       "    <tr>\n",
       "      <th>4</th>\n",
       "      <td>2013-02-14</td>\n",
       "      <td>14.94</td>\n",
       "      <td>14.96</td>\n",
       "      <td>13.16</td>\n",
       "      <td>13.99</td>\n",
       "      <td>31879900</td>\n",
       "      <td>AAL</td>\n",
       "    </tr>\n",
       "  </tbody>\n",
       "</table>\n",
       "</div>"
      ],
      "text/plain": [
       "         date   open   high    low  close    volume ticker\n",
       "0  2013-02-08  15.07  15.12  14.63  14.75   8407500    AAL\n",
       "1  2013-02-11  14.89  15.01  14.26  14.46   8882000    AAL\n",
       "2  2013-02-12  14.45  14.51  14.10  14.27   8126000    AAL\n",
       "3  2013-02-13  14.30  14.94  14.25  14.66  10259500    AAL\n",
       "4  2013-02-14  14.94  14.96  13.16  13.99  31879900    AAL"
      ]
     },
     "execution_count": 17,
     "metadata": {},
     "output_type": "execute_result"
    }
   ],
   "source": [
    "df1.head()"
   ]
  },
  {
   "cell_type": "code",
   "execution_count": 35,
   "metadata": {},
   "outputs": [],
   "source": [
    "df_merge = pd.merge(df, df1, on='ticker')"
   ]
  },
  {
   "cell_type": "code",
   "execution_count": 36,
   "metadata": {},
   "outputs": [
    {
     "data": {
      "text/html": [
       "<div>\n",
       "<style scoped>\n",
       "    .dataframe tbody tr th:only-of-type {\n",
       "        vertical-align: middle;\n",
       "    }\n",
       "\n",
       "    .dataframe tbody tr th {\n",
       "        vertical-align: top;\n",
       "    }\n",
       "\n",
       "    .dataframe thead th {\n",
       "        text-align: right;\n",
       "    }\n",
       "</style>\n",
       "<table border=\"1\" class=\"dataframe\">\n",
       "  <thead>\n",
       "    <tr style=\"text-align: right;\">\n",
       "      <th></th>\n",
       "      <th>filing_name</th>\n",
       "      <th>filing_date</th>\n",
       "      <th>district_court</th>\n",
       "      <th>exchange</th>\n",
       "      <th>ticker</th>\n",
       "    </tr>\n",
       "  </thead>\n",
       "  <tbody>\n",
       "    <tr>\n",
       "      <th>0</th>\n",
       "      <td>ILG, Inc.</td>\n",
       "      <td>07/06/2018</td>\n",
       "      <td>D. Delaware</td>\n",
       "      <td>NASDAQ</td>\n",
       "      <td>ILG</td>\n",
       "    </tr>\n",
       "    <tr>\n",
       "      <th>1</th>\n",
       "      <td>KLX Inc.</td>\n",
       "      <td>07/06/2018</td>\n",
       "      <td>D. Delaware</td>\n",
       "      <td>NASDAQ</td>\n",
       "      <td>KLXI</td>\n",
       "    </tr>\n",
       "    <tr>\n",
       "      <th>2</th>\n",
       "      <td>Triangle Capital Corporation</td>\n",
       "      <td>07/06/2018</td>\n",
       "      <td>E.D. North Carolina</td>\n",
       "      <td>New York SE</td>\n",
       "      <td>TCAP</td>\n",
       "    </tr>\n",
       "    <tr>\n",
       "      <th>3</th>\n",
       "      <td>Vectren Corporation</td>\n",
       "      <td>07/05/2018</td>\n",
       "      <td>S.D. Indiana</td>\n",
       "      <td>New York SE</td>\n",
       "      <td>VVC</td>\n",
       "    </tr>\n",
       "    <tr>\n",
       "      <th>4</th>\n",
       "      <td>DCT Industrial Trust Inc.</td>\n",
       "      <td>07/02/2018</td>\n",
       "      <td>D. Colorado</td>\n",
       "      <td>New York SE</td>\n",
       "      <td>DCT</td>\n",
       "    </tr>\n",
       "  </tbody>\n",
       "</table>\n",
       "</div>"
      ],
      "text/plain": [
       "                    filing_name filing_date       district_court     exchange  \\\n",
       "0                     ILG, Inc.  07/06/2018          D. Delaware       NASDAQ   \n",
       "1                      KLX Inc.  07/06/2018          D. Delaware       NASDAQ   \n",
       "2  Triangle Capital Corporation  07/06/2018  E.D. North Carolina  New York SE   \n",
       "3           Vectren Corporation  07/05/2018         S.D. Indiana  New York SE   \n",
       "4     DCT Industrial Trust Inc.  07/02/2018          D. Colorado  New York SE   \n",
       "\n",
       "  ticker  \n",
       "0    ILG  \n",
       "1   KLXI  \n",
       "2   TCAP  \n",
       "3    VVC  \n",
       "4    DCT  "
      ]
     },
     "execution_count": 36,
     "metadata": {},
     "output_type": "execute_result"
    }
   ],
   "source": [
    "df.head()"
   ]
  },
  {
   "cell_type": "code",
   "execution_count": 42,
   "metadata": {},
   "outputs": [
    {
     "name": "stdout",
     "output_type": "stream",
     "text": [
      "<class 'pandas.core.frame.DataFrame'>\n",
      "RangeIndex: 619040 entries, 0 to 619039\n",
      "Data columns (total 7 columns):\n",
      "date      619040 non-null object\n",
      "open      619029 non-null float64\n",
      "high      619032 non-null float64\n",
      "low       619032 non-null float64\n",
      "close     619040 non-null float64\n",
      "volume    619040 non-null int64\n",
      "ticker    619040 non-null object\n",
      "dtypes: float64(4), int64(1), object(2)\n",
      "memory usage: 33.1+ MB\n"
     ]
    }
   ],
   "source": [
    "df1.info()"
   ]
  },
  {
   "cell_type": "code",
   "execution_count": 38,
   "metadata": {},
   "outputs": [
    {
     "data": {
      "text/html": [
       "<div>\n",
       "<style scoped>\n",
       "    .dataframe tbody tr th:only-of-type {\n",
       "        vertical-align: middle;\n",
       "    }\n",
       "\n",
       "    .dataframe tbody tr th {\n",
       "        vertical-align: top;\n",
       "    }\n",
       "\n",
       "    .dataframe thead th {\n",
       "        text-align: right;\n",
       "    }\n",
       "</style>\n",
       "<table border=\"1\" class=\"dataframe\">\n",
       "  <thead>\n",
       "    <tr style=\"text-align: right;\">\n",
       "      <th></th>\n",
       "      <th>filing_name</th>\n",
       "      <th>filing_date</th>\n",
       "      <th>district_court</th>\n",
       "      <th>exchange</th>\n",
       "      <th>ticker</th>\n",
       "      <th>date</th>\n",
       "      <th>open</th>\n",
       "      <th>high</th>\n",
       "      <th>low</th>\n",
       "      <th>close</th>\n",
       "      <th>volume</th>\n",
       "    </tr>\n",
       "  </thead>\n",
       "  <tbody>\n",
       "    <tr>\n",
       "      <th>0</th>\n",
       "      <td>Express Scripts Holding Company</td>\n",
       "      <td>06/22/2018</td>\n",
       "      <td>E.D. Missouri</td>\n",
       "      <td>NASDAQ</td>\n",
       "      <td>ESRX</td>\n",
       "      <td>2013-02-08</td>\n",
       "      <td>55.27</td>\n",
       "      <td>55.92</td>\n",
       "      <td>55.12</td>\n",
       "      <td>55.74</td>\n",
       "      <td>3413611</td>\n",
       "    </tr>\n",
       "    <tr>\n",
       "      <th>1</th>\n",
       "      <td>Express Scripts Holding Company</td>\n",
       "      <td>06/22/2018</td>\n",
       "      <td>E.D. Missouri</td>\n",
       "      <td>NASDAQ</td>\n",
       "      <td>ESRX</td>\n",
       "      <td>2013-02-11</td>\n",
       "      <td>56.04</td>\n",
       "      <td>56.04</td>\n",
       "      <td>54.88</td>\n",
       "      <td>55.05</td>\n",
       "      <td>3512527</td>\n",
       "    </tr>\n",
       "    <tr>\n",
       "      <th>2</th>\n",
       "      <td>Express Scripts Holding Company</td>\n",
       "      <td>06/22/2018</td>\n",
       "      <td>E.D. Missouri</td>\n",
       "      <td>NASDAQ</td>\n",
       "      <td>ESRX</td>\n",
       "      <td>2013-02-12</td>\n",
       "      <td>55.01</td>\n",
       "      <td>55.29</td>\n",
       "      <td>54.24</td>\n",
       "      <td>54.34</td>\n",
       "      <td>5723673</td>\n",
       "    </tr>\n",
       "    <tr>\n",
       "      <th>3</th>\n",
       "      <td>Express Scripts Holding Company</td>\n",
       "      <td>06/22/2018</td>\n",
       "      <td>E.D. Missouri</td>\n",
       "      <td>NASDAQ</td>\n",
       "      <td>ESRX</td>\n",
       "      <td>2013-02-13</td>\n",
       "      <td>54.35</td>\n",
       "      <td>55.47</td>\n",
       "      <td>54.35</td>\n",
       "      <td>55.43</td>\n",
       "      <td>4581808</td>\n",
       "    </tr>\n",
       "    <tr>\n",
       "      <th>4</th>\n",
       "      <td>Express Scripts Holding Company</td>\n",
       "      <td>06/22/2018</td>\n",
       "      <td>E.D. Missouri</td>\n",
       "      <td>NASDAQ</td>\n",
       "      <td>ESRX</td>\n",
       "      <td>2013-02-14</td>\n",
       "      <td>55.26</td>\n",
       "      <td>55.88</td>\n",
       "      <td>55.10</td>\n",
       "      <td>55.10</td>\n",
       "      <td>7916922</td>\n",
       "    </tr>\n",
       "  </tbody>\n",
       "</table>\n",
       "</div>"
      ],
      "text/plain": [
       "                       filing_name filing_date district_court exchange ticker  \\\n",
       "0  Express Scripts Holding Company  06/22/2018  E.D. Missouri   NASDAQ   ESRX   \n",
       "1  Express Scripts Holding Company  06/22/2018  E.D. Missouri   NASDAQ   ESRX   \n",
       "2  Express Scripts Holding Company  06/22/2018  E.D. Missouri   NASDAQ   ESRX   \n",
       "3  Express Scripts Holding Company  06/22/2018  E.D. Missouri   NASDAQ   ESRX   \n",
       "4  Express Scripts Holding Company  06/22/2018  E.D. Missouri   NASDAQ   ESRX   \n",
       "\n",
       "         date   open   high    low  close   volume  \n",
       "0  2013-02-08  55.27  55.92  55.12  55.74  3413611  \n",
       "1  2013-02-11  56.04  56.04  54.88  55.05  3512527  \n",
       "2  2013-02-12  55.01  55.29  54.24  54.34  5723673  \n",
       "3  2013-02-13  54.35  55.47  54.35  55.43  4581808  \n",
       "4  2013-02-14  55.26  55.88  55.10  55.10  7916922  "
      ]
     },
     "execution_count": 38,
     "metadata": {},
     "output_type": "execute_result"
    }
   ],
   "source": [
    "df_merge.head()"
   ]
  },
  {
   "cell_type": "code",
   "execution_count": 41,
   "metadata": {},
   "outputs": [
    {
     "data": {
      "text/plain": [
       "New York SE         378430\n",
       "NASDAQ              135562\n",
       "American SE           2518\n",
       "ETF                   1259\n",
       "Privately Traded      1259\n",
       "Name: exchange, dtype: int64"
      ]
     },
     "execution_count": 41,
     "metadata": {},
     "output_type": "execute_result"
    }
   ],
   "source": [
    "df_merge.exchange.value_counts()"
   ]
  },
  {
   "cell_type": "code",
   "execution_count": 40,
   "metadata": {},
   "outputs": [
    {
     "data": {
      "text/plain": [
       "Juniper Networks, Inc.                                                         6295\n",
       "General Electric Company                                                       5036\n",
       "Chesapeake Energy Corporation                                                  5036\n",
       "Medtronic, Inc.                                                                5036\n",
       "Advanced Micro Devices, Inc.                                                   3777\n",
       "Merck & Co., Inc.                                                              3777\n",
       "Ford Motor Company                                                             3777\n",
       "Chipotle Mexican Grill, Inc.                                                   3777\n",
       "American Express Company                                                       3777\n",
       "Facebook, Inc.                                                                 3777\n",
       "General Motors Company                                                         3777\n",
       "The Boeing Company                                                             3777\n",
       "Xerox Corporation                                                              3777\n",
       "Johnson & Johnson                                                              3777\n",
       "Aetna Inc.                                                                     3777\n",
       "Boston Scientific Corporation                                                  3777\n",
       "Lockheed Martin Corporation                                                    3777\n",
       "ConAgra Foods, Inc.                                                            2518\n",
       "Walt Disney Company                                                            2518\n",
       "H&R; Block, Inc.                                                               2518\n",
       "Cigna Corporation                                                              2518\n",
       "Netflix, Inc.                                                                  2518\n",
       "Aetna, Inc.                                                                    2518\n",
       "Apple Computer, Inc.                                                           2518\n",
       "Pfizer Inc.                                                                    2518\n",
       "Patterson Companies, Inc.                                                      2518\n",
       "The Coca-Cola Company                                                          2518\n",
       "Regions Financial Corporation                                                  2518\n",
       "International Business Machines Corporation                                    2518\n",
       "Washington Mutual, Inc.                                                        2518\n",
       "                                                                               ... \n",
       "CarMax, Inc.                                                                   1259\n",
       "XL Capital Ltd.                                                                1259\n",
       "Salomon Smith Barney, Inc./Citigroup : AT&T; Corporation and AT&T; Wireless    1259\n",
       "Wells Fargo & Company : Auction Rate Securities                                1259\n",
       "General Growth Properties, Inc.                                                1259\n",
       "Kohl's Corporation                                                             1259\n",
       "Laboratory Corporation of America Holdings (LabCorp)                           1259\n",
       "NAHC, Inc. (f/k/a Novacare, Inc. )                                             1259\n",
       "JPMorgan Chase & Co.                                                           1259\n",
       "Pfizer, Inc.                                                                   1259\n",
       "Time Warner, Inc.                                                              1259\n",
       "Cooper Companies, Inc.                                                         1259\n",
       "Baxter International Inc.                                                      1259\n",
       "AES Corporation                                                                1259\n",
       "Akamai Technologies, Inc.                                                      1259\n",
       "Bristol-Myers Squibb Company (2000)                                            1257\n",
       "Bristol-Myers Squibb Company (2002)                                            1257\n",
       "EnergySolutions, Inc.                                                          1249\n",
       "Coty Inc.                                                                      1173\n",
       "Foxmeyer Health Corporation                                                    1169\n",
       "Fox Entertainment Group, Inc. : News Corporation                               1169\n",
       "News Corporation                                                               1169\n",
       "NaviSite, Inc.                                                                  960\n",
       "Citizens Financial Group, Inc.                                                  850\n",
       "Hewlett Packard Company                                                         581\n",
       "CSRA, Inc.                                                                      561\n",
       "Willis Towers Watson plc                                                        528\n",
       "Under Armour, Inc.                                                              464\n",
       "Envision Healthcare Holdings, Inc.                                              297\n",
       "Envision Healthcare Corporation                                                 297\n",
       "Name: filing_name, Length: 323, dtype: int64"
      ]
     },
     "execution_count": 40,
     "metadata": {},
     "output_type": "execute_result"
    }
   ],
   "source": [
    "df_merge.filing_name.value_counts()"
   ]
  },
  {
   "cell_type": "code",
   "execution_count": 43,
   "metadata": {},
   "outputs": [],
   "source": [
    "from datetime import datetime"
   ]
  },
  {
   "cell_type": "code",
   "execution_count": 46,
   "metadata": {},
   "outputs": [],
   "source": [
    "df.filing_date = pd.to_datetime(df['filing_date'])"
   ]
  },
  {
   "cell_type": "code",
   "execution_count": 47,
   "metadata": {},
   "outputs": [
    {
     "name": "stdout",
     "output_type": "stream",
     "text": [
      "<class 'pandas.core.frame.DataFrame'>\n",
      "RangeIndex: 4996 entries, 0 to 4995\n",
      "Data columns (total 5 columns):\n",
      "filing_name       4996 non-null object\n",
      "filing_date       4996 non-null datetime64[ns]\n",
      "district_court    4996 non-null object\n",
      "exchange          4996 non-null object\n",
      "ticker            4996 non-null object\n",
      "dtypes: datetime64[ns](1), object(4)\n",
      "memory usage: 195.2+ KB\n"
     ]
    }
   ],
   "source": [
    "df.info()"
   ]
  },
  {
   "cell_type": "code",
   "execution_count": 48,
   "metadata": {},
   "outputs": [],
   "source": [
    "df1.date = pd.to_datetime(df1['date'])"
   ]
  },
  {
   "cell_type": "code",
   "execution_count": 49,
   "metadata": {},
   "outputs": [
    {
     "name": "stdout",
     "output_type": "stream",
     "text": [
      "<class 'pandas.core.frame.DataFrame'>\n",
      "RangeIndex: 619040 entries, 0 to 619039\n",
      "Data columns (total 7 columns):\n",
      "date      619040 non-null datetime64[ns]\n",
      "open      619029 non-null float64\n",
      "high      619032 non-null float64\n",
      "low       619032 non-null float64\n",
      "close     619040 non-null float64\n",
      "volume    619040 non-null int64\n",
      "ticker    619040 non-null object\n",
      "dtypes: datetime64[ns](1), float64(4), int64(1), object(1)\n",
      "memory usage: 33.1+ MB\n"
     ]
    }
   ],
   "source": [
    "df1.info()"
   ]
  },
  {
   "cell_type": "code",
   "execution_count": 50,
   "metadata": {},
   "outputs": [],
   "source": [
    "df_merge = pd.merge(df, df1, on='ticker')"
   ]
  },
  {
   "cell_type": "code",
   "execution_count": 51,
   "metadata": {},
   "outputs": [
    {
     "name": "stdout",
     "output_type": "stream",
     "text": [
      "<class 'pandas.core.frame.DataFrame'>\n",
      "Int64Index: 519028 entries, 0 to 519027\n",
      "Data columns (total 11 columns):\n",
      "filing_name       519028 non-null object\n",
      "filing_date       519028 non-null datetime64[ns]\n",
      "district_court    519028 non-null object\n",
      "exchange          519028 non-null object\n",
      "ticker            519028 non-null object\n",
      "date              519028 non-null datetime64[ns]\n",
      "open              519022 non-null float64\n",
      "high              519023 non-null float64\n",
      "low               519023 non-null float64\n",
      "close             519028 non-null float64\n",
      "volume            519028 non-null int64\n",
      "dtypes: datetime64[ns](2), float64(4), int64(1), object(4)\n",
      "memory usage: 47.5+ MB\n"
     ]
    }
   ],
   "source": [
    "df_merge.info()"
   ]
  },
  {
   "cell_type": "code",
   "execution_count": null,
   "metadata": {},
   "outputs": [],
   "source": []
  }
 ],
 "metadata": {
  "kernelspec": {
   "display_name": "Python 3",
   "language": "python",
   "name": "python3"
  },
  "language_info": {
   "codemirror_mode": {
    "name": "ipython",
    "version": 3
   },
   "file_extension": ".py",
   "mimetype": "text/x-python",
   "name": "python",
   "nbconvert_exporter": "python",
   "pygments_lexer": "ipython3",
   "version": "3.6.5"
  }
 },
 "nbformat": 4,
 "nbformat_minor": 2
}
